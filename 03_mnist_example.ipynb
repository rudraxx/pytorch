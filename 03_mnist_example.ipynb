{
  "nbformat": 4,
  "nbformat_minor": 0,
  "metadata": {
    "colab": {
      "provenance": [],
      "gpuType": "T4",
      "authorship_tag": "ABX9TyOaTB2r9azFSzyC2M40V2xQ",
      "include_colab_link": true
    },
    "kernelspec": {
      "name": "python3",
      "display_name": "Python 3"
    },
    "language_info": {
      "name": "python"
    },
    "accelerator": "GPU"
  },
  "cells": [
    {
      "cell_type": "markdown",
      "metadata": {
        "id": "view-in-github",
        "colab_type": "text"
      },
      "source": [
        "<a href=\"https://colab.research.google.com/github/rudraxx/pytorch/blob/main/03_mnist_example.ipynb\" target=\"_parent\"><img src=\"https://colab.research.google.com/assets/colab-badge.svg\" alt=\"Open In Colab\"/></a>"
      ]
    },
    {
      "cell_type": "code",
      "execution_count": null,
      "metadata": {
        "id": "t9h_055hjUKl"
      },
      "outputs": [],
      "source": [
        "# MNIST example"
      ]
    },
    {
      "cell_type": "code",
      "source": [
        "import os\n",
        "import torch\n",
        "from torch import nn\n",
        "from torch.utils.data import DataLoader\n",
        "from torchvision.transforms import ToTensor\n",
        "\n",
        "from torchvision import datasets, transforms\n",
        "import matplotlib.pyplot as plt\n",
        "\n",
        "import torch.optim as optim\n",
        "\n"
      ],
      "metadata": {
        "id": "njnbra1IjiR9"
      },
      "execution_count": null,
      "outputs": []
    },
    {
      "cell_type": "code",
      "source": [
        "device = (\n",
        "    \"cuda\"\n",
        "    if torch.cuda.is_available()\n",
        "    else \"mps\"\n",
        "    if torch.backends.mps.is_available()\n",
        "    else \"cpu\"\n",
        ")\n",
        "\n",
        "print(f\"Using {device} device\")"
      ],
      "metadata": {
        "colab": {
          "base_uri": "https://localhost:8080/"
        },
        "id": "r8CuErFcjiXb",
        "outputId": "41c6fcc2-66d4-4944-ad29-6c42546f52ea"
      },
      "execution_count": null,
      "outputs": [
        {
          "output_type": "stream",
          "name": "stdout",
          "text": [
            "Using cuda device\n"
          ]
        }
      ]
    },
    {
      "cell_type": "code",
      "source": [
        "# Define the Model class\n",
        "\n",
        "class NeuralNetwork(nn.Module):\n",
        "  def __init__(self, ) -> None:\n",
        "    super().__init__()\n",
        "    self.flatten = nn.Flatten()\n",
        "    self.linear_relu_stack = nn.Sequential(\n",
        "        nn.Linear(28*28, 512),\n",
        "        nn.ReLU(),\n",
        "        nn.Linear(512,256),\n",
        "        nn.ReLU(),\n",
        "        nn.Linear(256,10)\n",
        "    )\n",
        "\n",
        "    self.softMax = nn.Softmax(dim=1)\n",
        "\n",
        "  def forward(self, x):\n",
        "    # Forward pass\n",
        "    x = self.flatten(x)\n",
        "    logits = self.linear_relu_stack(x)\n",
        "    return logits\n",
        "\n"
      ],
      "metadata": {
        "id": "MEl3N32SjibD"
      },
      "execution_count": null,
      "outputs": []
    },
    {
      "cell_type": "code",
      "source": [
        "# Instantiate the model\n",
        "model = NeuralNetwork().to(device)\n",
        "print(model)"
      ],
      "metadata": {
        "colab": {
          "base_uri": "https://localhost:8080/"
        },
        "id": "G5l4seAwjid5",
        "outputId": "5437d51d-d16c-42d2-d23a-5396ac67a9c0"
      },
      "execution_count": null,
      "outputs": [
        {
          "output_type": "stream",
          "name": "stdout",
          "text": [
            "NeuralNetwork(\n",
            "  (flatten): Flatten(start_dim=1, end_dim=-1)\n",
            "  (linear_relu_stack): Sequential(\n",
            "    (0): Linear(in_features=784, out_features=512, bias=True)\n",
            "    (1): ReLU()\n",
            "    (2): Linear(in_features=512, out_features=256, bias=True)\n",
            "    (3): ReLU()\n",
            "    (4): Linear(in_features=256, out_features=10, bias=True)\n",
            "  )\n",
            "  (softMax): Softmax(dim=1)\n",
            ")\n"
          ]
        }
      ]
    },
    {
      "cell_type": "code",
      "source": [
        "# Test the model\n",
        "\n",
        "x = torch.randn([3, 28, 28], device=device)\n",
        "\n",
        "logits = model(x)\n",
        "print(logits)\n",
        "pred_probab = model.softMax(logits)\n",
        "print(pred_probab)\n",
        "\n",
        "print(x.shape, logits.shape, pred_probab.shape)"
      ],
      "metadata": {
        "colab": {
          "base_uri": "https://localhost:8080/"
        },
        "id": "cQCsVvDqjig5",
        "outputId": "7cec21dc-8138-4523-b385-62079449d416"
      },
      "execution_count": null,
      "outputs": [
        {
          "output_type": "stream",
          "name": "stdout",
          "text": [
            "tensor([[ 0.0484,  0.1676, -0.1232, -0.0310, -0.0475,  0.0067, -0.1264,  0.1924,\n",
            "          0.0029, -0.1196],\n",
            "        [-0.0040,  0.1907, -0.0599,  0.0267, -0.1321, -0.0703, -0.1922,  0.0433,\n",
            "          0.1111, -0.1440],\n",
            "        [ 0.0394,  0.1104, -0.0876, -0.0834, -0.0200,  0.0520, -0.1261,  0.0453,\n",
            "         -0.0517, -0.0497]], device='cuda:0', grad_fn=<AddmmBackward0>)\n",
            "tensor([[0.1047, 0.1179, 0.0881, 0.0967, 0.0951, 0.1004, 0.0879, 0.1209, 0.1000,\n",
            "         0.0885],\n",
            "        [0.1013, 0.1230, 0.0958, 0.1044, 0.0891, 0.0948, 0.0839, 0.1062, 0.1136,\n",
            "         0.0880],\n",
            "        [0.1055, 0.1133, 0.0930, 0.0933, 0.0995, 0.1069, 0.0894, 0.1062, 0.0964,\n",
            "         0.0965]], device='cuda:0', grad_fn=<SoftmaxBackward0>)\n",
            "torch.Size([3, 28, 28]) torch.Size([3, 10]) torch.Size([3, 10])\n"
          ]
        }
      ]
    },
    {
      "cell_type": "code",
      "source": [
        "# Display the Model parameters\n",
        "\n",
        "print(f\"Model structure: {model}\")\n",
        "# for name, param in model.named_parameters():\n",
        "#   print(name, param)"
      ],
      "metadata": {
        "id": "q_s2v8hbjikm",
        "colab": {
          "base_uri": "https://localhost:8080/"
        },
        "outputId": "30212744-a480-4465-fb36-3823c5ee0a51"
      },
      "execution_count": null,
      "outputs": [
        {
          "output_type": "stream",
          "name": "stdout",
          "text": [
            "Model structure: NeuralNetwork(\n",
            "  (flatten): Flatten(start_dim=1, end_dim=-1)\n",
            "  (linear_relu_stack): Sequential(\n",
            "    (0): Linear(in_features=784, out_features=512, bias=True)\n",
            "    (1): ReLU()\n",
            "    (2): Linear(in_features=512, out_features=256, bias=True)\n",
            "    (3): ReLU()\n",
            "    (4): Linear(in_features=256, out_features=10, bias=True)\n",
            "  )\n",
            "  (softMax): Softmax(dim=1)\n",
            ")\n"
          ]
        }
      ]
    },
    {
      "cell_type": "code",
      "source": [
        "# Load the data\n",
        "training_data = datasets.FashionMNIST(\n",
        "    root=\"data\",\n",
        "    train=True,\n",
        "    download=True,\n",
        "    transform=ToTensor(),\n",
        ")\n",
        "\n",
        "test_data = datasets.FashionMNIST(\n",
        "    root=\"data\",\n",
        "    train=False,\n",
        "    download=True,\n",
        "    transform=ToTensor(),\n",
        ")\n",
        "\n",
        "# Train/ Val split\n",
        "train_size = int(0.8 * len(training_data))\n",
        "val_size = len(training_data) - train_size\n",
        "\n",
        "train_subset, val_subset = torch.utils.data.random_split(\n",
        "        training_data, [train_size, val_size], generator=torch.Generator().manual_seed(1))\n",
        "\n",
        "\n",
        "print(f\"train_subset size: {len(train_subset)}, val_subset size: {len(val_subset)}\")"
      ],
      "metadata": {
        "id": "UIJKxwOijiny",
        "colab": {
          "base_uri": "https://localhost:8080/"
        },
        "outputId": "19eb22fd-8771-44bc-c465-9533b5099688"
      },
      "execution_count": null,
      "outputs": [
        {
          "output_type": "stream",
          "name": "stdout",
          "text": [
            "train_subset size: 48000, val_subset size: 12000\n"
          ]
        }
      ]
    },
    {
      "cell_type": "code",
      "source": [
        "# Get the label map\n",
        "print(training_data.data.shape)\n",
        "img, label = training_data[0]\n",
        "print(label)\n",
        "print(training_data.classes)"
      ],
      "metadata": {
        "id": "erMwGHZpjiri",
        "colab": {
          "base_uri": "https://localhost:8080/"
        },
        "outputId": "047877b6-c9ee-4676-8d8b-5596b6f14b8c"
      },
      "execution_count": null,
      "outputs": [
        {
          "output_type": "stream",
          "name": "stdout",
          "text": [
            "torch.Size([60000, 28, 28])\n",
            "9\n",
            "['T-shirt/top', 'Trouser', 'Pullover', 'Dress', 'Coat', 'Sandal', 'Shirt', 'Sneaker', 'Bag', 'Ankle boot']\n"
          ]
        }
      ]
    },
    {
      "cell_type": "code",
      "source": [
        "label_map = {i:val for i, val in enumerate(training_data.classes)}\n",
        "print(label_map)\n",
        "\n",
        "# labels_map = {\n",
        "#     0: \"T-Shirt\",\n",
        "#     1: \"Trouser\",\n",
        "#     2: \"Pullover\",\n",
        "#     3: \"Dress\",\n",
        "#     4: \"Coat\",\n",
        "#     5: \"Sandal\",\n",
        "#     6: \"Shirt\",\n",
        "#     7: \"Sneaker\",\n",
        "#     8: \"Bag\",\n",
        "#     9: \"Ankle Boot\",\n",
        "# }"
      ],
      "metadata": {
        "id": "OWs3s_GDjiuy",
        "colab": {
          "base_uri": "https://localhost:8080/"
        },
        "outputId": "00c8beb6-9380-4469-9d2c-7f33102f9daa"
      },
      "execution_count": null,
      "outputs": [
        {
          "output_type": "stream",
          "name": "stdout",
          "text": [
            "{0: 'T-shirt/top', 1: 'Trouser', 2: 'Pullover', 3: 'Dress', 4: 'Coat', 5: 'Sandal', 6: 'Shirt', 7: 'Sneaker', 8: 'Bag', 9: 'Ankle boot'}\n"
          ]
        }
      ]
    },
    {
      "cell_type": "code",
      "source": [
        "# Show the data\n",
        "\n",
        "figure = plt.figure(figsize=(8,8))\n",
        "cols, rows= 3, 3\n",
        "\n",
        "for i in range(1, cols*rows+1):\n",
        "  # print(i)\n",
        "  sample_idx = torch.randint(len(training_data), size=(1,)).item()\n",
        "  img, label = training_data[sample_idx]\n",
        "\n",
        "  # print(img.shape)\n",
        "\n",
        "  figure.add_subplot(rows, cols, i)\n",
        "  plt.title(label_map[label])\n",
        "  plt.axis(\"off\")\n",
        "  plt.imshow(img.squeeze(), cmap='gray')\n",
        "\n",
        "plt.show()\n",
        "\n",
        "\n",
        "# # figure = plt.figure(figsize=(8, 8))\n",
        "# # cols, rows = 3, 3\n",
        "# for i in range(1, cols * rows + 1):\n",
        "#     sample_idx = torch.randint(len(training_data), size=(1,)).item()\n",
        "#     img, label = training_data[sample_idx]\n",
        "#     figure.add_subplot(rows, cols, i)\n",
        "#     plt.title(label_map[label])\n",
        "#     plt.axis(\"off\")\n",
        "#     plt.imshow(img.squeeze(), cmap=\"gray\")\n",
        "# plt.show()"
      ],
      "metadata": {
        "id": "Mry-FD-vjixv",
        "colab": {
          "base_uri": "https://localhost:8080/",
          "height": 675
        },
        "outputId": "6ef4ea8f-ebeb-4f0f-ab50-deac307e78ce"
      },
      "execution_count": null,
      "outputs": [
        {
          "output_type": "display_data",
          "data": {
            "text/plain": [
              "<Figure size 800x800 with 9 Axes>"
            ],
            "image/png": "[encoded data removed]"
          },
          "metadata": {}
        }
      ]
    },
    {
      "cell_type": "code",
      "source": [
        "#DataLoaders for training\n",
        "BATCH_SIZE = 64\n",
        "\n",
        "train_dataloader = DataLoader(dataset=train_subset, shuffle=True, batch_size=BATCH_SIZE)\n",
        "val_dataloader = DataLoader(dataset=val_subset, shuffle=False, batch_size=val_size)\n",
        "\n",
        "# train_dataloader = DataLoader(training_data,batch_size=64, shuffle=True)\n",
        "test_dataloader  = DataLoader(test_data,batch_size=64, shuffle=True)\n",
        "\n",
        "# print(type(train_dataloader))\n",
        "#Iterate through dataloader\n",
        "train_features, train_labels = next(iter(train_dataloader))\n",
        "print(f\"Train Feature batch shape : {train_features.shape}\")\n",
        "print(f\"Train Label batch shape : {train_labels.shape}\")\n",
        "\n",
        "val_features, val_labels = next(iter(val_dataloader))\n",
        "print(f\"Val Feature batch shape : {val_features.shape}\")\n",
        "print(f\"Val Label batch shape : {val_labels.shape}\")\n"
      ],
      "metadata": {
        "id": "cJPJmFcXji7W",
        "colab": {
          "base_uri": "https://localhost:8080/"
        },
        "outputId": "30dba1e5-59f0-4185-80f9-93ce2d9caa4b"
      },
      "execution_count": null,
      "outputs": [
        {
          "output_type": "stream",
          "name": "stdout",
          "text": [
            "Train Feature batch shape : torch.Size([64, 1, 28, 28])\n",
            "Train Label batch shape : torch.Size([64])\n",
            "Val Feature batch shape : torch.Size([12000, 1, 28, 28])\n",
            "Val Label batch shape : torch.Size([12000])\n"
          ]
        }
      ]
    },
    {
      "cell_type": "code",
      "source": [
        "#Hyperparameters\n",
        "\n",
        "lr = 0.001\n",
        "momentum = 0.9\n",
        "epochs = 5\n"
      ],
      "metadata": {
        "id": "LurKvkPsGBIV"
      },
      "execution_count": null,
      "outputs": []
    },
    {
      "cell_type": "code",
      "source": [
        "# Define loss function\n",
        "criterion = nn.CrossEntropyLoss()\n",
        "optimizer = optim.SGD(model.parameters(), lr = lr, momentum=momentum)\n"
      ],
      "metadata": {
        "id": "mjhE48iHji-b"
      },
      "execution_count": null,
      "outputs": []
    },
    {
      "cell_type": "code",
      "source": [
        "# Test the processing of val data\n",
        "# val_data = val_dataloader.dataset.dataset.data.to(device=device)\n",
        "# val_targets = val_dataloader.dataset.dataset.targets.to(device=device)\n",
        "# val_preds    = model(val_data.to(device=device))\n",
        "# val_loss = criterion(val_preds, val_targets.to(device=device))\n",
        "\n",
        "# val_features, val_labels = next(iter(val_dataloader))\n",
        "# val_preds    = model(val_features.to(device=device))\n",
        "# print(val_preds.shape, val_preds.device)\n",
        "\n",
        "# print(train_dataloader.dataset.dataset.data.shape)\n",
        "# print(val_data.shape)\n"
      ],
      "metadata": {
        "colab": {
          "base_uri": "https://localhost:8080/"
        },
        "id": "UwaIUd-qbg3X",
        "outputId": "c4a71a94-25bd-4e54-a45b-72e5cd2b3188"
      },
      "execution_count": null,
      "outputs": [
        {
          "output_type": "stream",
          "name": "stdout",
          "text": [
            "torch.Size([12000, 10]) cuda:0\n"
          ]
        }
      ]
    },
    {
      "cell_type": "code",
      "source": [
        "#Train\n",
        "array_loss_values = []\n",
        "array_val_loss_values = []\n",
        "\n",
        "for epoch in range(epochs):\n",
        "\n",
        "  running_loss = 0.0\n",
        "  iCount = 0\n",
        "  for i, data in enumerate(train_dataloader, 0):\n",
        "\n",
        "    inputs, labels = data\n",
        "    # print(f\"Running epochs: {epoch}, iter:{i}\",  inputs.shape, labels.shape)\n",
        "\n",
        "    # iCount+=1\n",
        "\n",
        "    # if iCount==1:\n",
        "    #   break\n",
        "\n",
        "\n",
        "    #Zero the gradients\n",
        "    optimizer.zero_grad()\n",
        "\n",
        "    #Forward pass\n",
        "    out = model(inputs.to(device=device))\n",
        "\n",
        "    #Calculate Loss\n",
        "    loss = criterion(out, labels.to(device=device))\n",
        "\n",
        "\n",
        "    #Calculate the gradients\n",
        "    loss.backward()\n",
        "\n",
        "    #Apply the gradients\n",
        "    optimizer.step()\n",
        "\n",
        "    #Print stats\n",
        "\n",
        "    running_loss += loss.item()\n",
        "    # print(running_loss)\n",
        "    # break\n",
        "\n",
        "    # num_print_loop = 100.\n",
        "    # if i % num_print_loop == num_print_loop-1: # Print every 100th minibatch\n",
        "    #   avg_loss = running_loss/num_print_loop\n",
        "    #   print(f\"[{epoch+1}, {i+1:5d}] loss : {avg_loss:.3f}\")\n",
        "\n",
        "      # running_loss = 0.0\n",
        "\n",
        "\n",
        "  #Save the epoch loss\n",
        "  avg_epoch_loss      = running_loss/len(train_dataloader)\n",
        "\n",
        "  # Get Validation loss\n",
        "  val_features, val_labels = next(iter(val_dataloader))\n",
        "  # val_data = val_dataloader.dataset.dataset.data\n",
        "  # val_targets = val_dataloader.dataset.dataset.targets\n",
        "  val_preds    = model(val_features.to(device=device))\n",
        "  val_loss = criterion(val_preds, val_labels.to(device=device))\n",
        "  # running_val_loss += val_loss.item()\n",
        "\n",
        "  avg_epoch_val_loss  = val_loss.item()/len(val_dataloader)\n",
        "\n",
        "  #Append to lists\n",
        "  array_loss_values.append(avg_epoch_loss)\n",
        "  array_val_loss_values.append(avg_epoch_val_loss)\n",
        "\n",
        "\n",
        "  print(f\"[{epoch+1}, {i+1:5d}] training loss : {avg_epoch_loss:.3f} val loss : {avg_epoch_val_loss:.3f}\")\n",
        "  running_loss=0.0\n",
        "\n",
        "print(\"Finished Training\")\n",
        "\n",
        "\n",
        "\n",
        "\n"
      ],
      "metadata": {
        "id": "ZLq3_-AajjBs",
        "colab": {
          "base_uri": "https://localhost:8080/"
        },
        "outputId": "0a9e8c1d-2734-4773-a1f3-85810f7f9c3b"
      },
      "execution_count": null,
      "outputs": [
        {
          "output_type": "stream",
          "name": "stdout",
          "text": [
            "[1,   750] training loss : 0.493 val loss : 0.485\n",
            "[2,   750] training loss : 0.472 val loss : 0.468\n",
            "[3,   750] training loss : 0.457 val loss : 0.454\n",
            "[4,   750] training loss : 0.444 val loss : 0.445\n",
            "[5,   750] training loss : 0.435 val loss : 0.465\n",
            "Finished Training\n"
          ]
        }
      ]
    },
    {
      "cell_type": "code",
      "source": [
        "print(array_loss_values)\n",
        "print(array_val_loss_values)\n"
      ],
      "metadata": {
        "colab": {
          "base_uri": "https://localhost:8080/"
        },
        "id": "xzT5doNXd7WQ",
        "outputId": "e2e124a6-1321-47aa-c435-85aeee909b67"
      },
      "execution_count": null,
      "outputs": [
        {
          "output_type": "stream",
          "name": "stdout",
          "text": [
            "[0.49340104873975116, 0.47185911134878794, 0.45698060993353523, 0.44421790313720705, 0.43534090115626656]\n",
            "[0.4854738712310791, 0.46800363063812256, 0.4538443088531494, 0.44538336992263794, 0.46535417437553406]\n"
          ]
        }
      ]
    },
    {
      "cell_type": "code",
      "source": [
        "plt.figure(figsize=(8,8))\n",
        "\n",
        "plt.plot(array_loss_values, label = \"train\")\n",
        "plt.plot(array_val_loss_values, label = \"val\")\n",
        "plt.xlabel(\"\")\n",
        "plt.ylabel(\"Loss\")\n",
        "plt.title(\"Training Loss plot\")\n",
        "plt.legend()\n",
        "plt.grid(True)\n"
      ],
      "metadata": {
        "colab": {
          "base_uri": "https://localhost:8080/",
          "height": 699
        },
        "id": "DysPY_PuFKOE",
        "outputId": "15c77df9-c977-4898-cfd6-d073cde85513"
      },
      "execution_count": null,
      "outputs": [
        {
          "output_type": "display_data",
          "data": {
            "text/plain": [
              "<Figure size 800x800 with 1 Axes>"
            ],
            "image/png": "[encoded data removed]"
          },
          "metadata": {}
        }
      ]
    },
    {
      "cell_type": "code",
      "source": [],
      "metadata": {
        "id": "CjhJ5qocFKLq"
      },
      "execution_count": null,
      "outputs": []
    },
    {
      "cell_type": "code",
      "source": [],
      "metadata": {
        "id": "S_PwNE1gFKJL"
      },
      "execution_count": null,
      "outputs": []
    },
    {
      "cell_type": "code",
      "source": [],
      "metadata": {
        "id": "y0PSyWXjFKGt"
      },
      "execution_count": null,
      "outputs": []
    },
    {
      "cell_type": "code",
      "source": [],
      "metadata": {
        "id": "RRFqtD5pFKEK"
      },
      "execution_count": null,
      "outputs": []
    },
    {
      "cell_type": "code",
      "source": [],
      "metadata": {
        "id": "T8B5RMtMFKBw"
      },
      "execution_count": null,
      "outputs": []
    },
    {
      "cell_type": "code",
      "source": [],
      "metadata": {
        "id": "8u0tmHiBjjFn"
      },
      "execution_count": null,
      "outputs": []
    }
  ]
}