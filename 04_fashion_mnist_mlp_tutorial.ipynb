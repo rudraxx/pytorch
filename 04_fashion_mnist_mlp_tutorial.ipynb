{
  "nbformat": 4,
  "nbformat_minor": 0,
  "metadata": {
    "colab": {
      "provenance": [],
      "gpuType": "T4",
      "authorship_tag": "ABX9TyPohcuG2admUNja+uRKLJ62",
      "include_colab_link": true
    },
    "kernelspec": {
      "name": "python3",
      "display_name": "Python 3"
    },
    "language_info": {
      "name": "python"
    },
    "accelerator": "GPU"
  },
  "cells": [
    {
      "cell_type": "markdown",
      "metadata": {
        "id": "view-in-github",
        "colab_type": "text"
      },
      "source": [
        "<a href=\"https://colab.research.google.com/github/rudraxx/pytorch/blob/main/04_fashion_mnist_mlp_tutorial.ipynb\" target=\"_parent\"><img src=\"https://colab.research.google.com/assets/colab-badge.svg\" alt=\"Open In Colab\"/></a>"
      ]
    },
    {
      "cell_type": "code",
      "execution_count": 126,
      "metadata": {
        "colab": {
          "base_uri": "https://localhost:8080/"
        },
        "id": "VE4sQqyhJr-L",
        "outputId": "79f70a58-e2e9-471c-a616-b6a13a64aafd"
      },
      "outputs": [
        {
          "output_type": "stream",
          "name": "stdout",
          "text": [
            "2.3.1+cu121\n"
          ]
        }
      ],
      "source": [
        "import torch\n",
        "import os\n",
        "import torchvision\n",
        "from torchvision import datasets, transforms\n",
        "from torch import nn\n",
        "from torch.utils.data import DataLoader\n",
        "from torchvision.utils import make_grid\n",
        "from torchvision.transforms.functional import pil_to_tensor\n",
        "from torchvision.transforms import ToTensor\n",
        "import matplotlib.pyplot as plt\n",
        "\n",
        "import torch.optim as optim\n",
        "\n",
        "\n",
        "print(torch.__version__)"
      ]
    },
    {
      "cell_type": "code",
      "source": [
        "'''\n",
        "Get Fashion Dataset\n",
        "Create Dataloaders\n",
        "Create class for ML model - MLP\n",
        "Run training\n",
        "Plot training results\n",
        "'''\n",
        "\n",
        "\n"
      ],
      "metadata": {
        "colab": {
          "base_uri": "https://localhost:8080/",
          "height": 53
        },
        "id": "819YfwS3J22a",
        "outputId": "e8d8278d-3fbf-44ea-9f04-98f4f8b7665a"
      },
      "execution_count": 127,
      "outputs": [
        {
          "output_type": "execute_result",
          "data": {
            "text/plain": [
              "'\\nGet Fashion Dataset\\nCreate Dataloaders\\nCreate class for ML model - MLP\\nRun training\\nPlot training results\\n'"
            ],
            "application/vnd.google.colaboratory.intrinsic+json": {
              "type": "string"
            }
          },
          "metadata": {},
          "execution_count": 127
        }
      ]
    },
    {
      "cell_type": "code",
      "source": [
        "# Torch tests\n",
        "x = torch.randn([3,5],dtype=torch.float32)\n",
        "print(x)\n"
      ],
      "metadata": {
        "colab": {
          "base_uri": "https://localhost:8080/"
        },
        "id": "4kts7zyNKhG-",
        "outputId": "3133252e-1406-4aac-9695-bef79f2c0842"
      },
      "execution_count": 128,
      "outputs": [
        {
          "output_type": "stream",
          "name": "stdout",
          "text": [
            "tensor([[ 0.1765, -1.1103, -0.7639, -0.3834,  0.4281],\n",
            "        [ 0.4683,  0.4479,  0.4031,  1.0808,  1.3639],\n",
            "        [ 1.9548,  1.1697, -0.2945, -0.2671,  0.6175]])\n"
          ]
        }
      ]
    },
    {
      "cell_type": "code",
      "source": [
        "# Get Dataset by applying the transform during loading data.\n",
        "# Note: without this, the data gets loaded as a PIL image and that has to be manually converted into tensor using torchvision.transforms.\n",
        "# Note: The transform is applied only to the data, not the label.\n",
        "\n",
        "transform = transforms.Compose(transforms=\n",
        "                                [transforms.ToTensor()])\n",
        "\n",
        "fashion_mnist_train = datasets.FashionMNIST('root',\n",
        "                                            train=True,download=True)#,\n",
        "                                            #transform=transform)\n",
        "ds_test  = datasets.FashionMNIST('root',\n",
        "                                 train=False,download=True)#,\n",
        "                                 #transform=transform)\n",
        "\n",
        "print(f\"Train dataset size: {len(fashion_mnist_train)}\")\n",
        "print(f\"Test dataset size: {len(ds_test)}\")\n",
        "\n",
        "print(\"Example of ds_test with no Transform  applied during dataset creation\\n \", ds_test[0])\n",
        "\n",
        "#Show example of applying transform after loading:\n",
        "# pil_img = ds_test[0][0]\n",
        "# print(\"Example of ds_test with Transform applied after dataset creation\\n\", transform(pil_img))\n"
      ],
      "metadata": {
        "colab": {
          "base_uri": "https://localhost:8080/"
        },
        "id": "NQaCuNYuJ3IJ",
        "outputId": "75c96c5e-11d7-4d40-d6e9-b79c93127c0b"
      },
      "execution_count": 129,
      "outputs": [
        {
          "output_type": "stream",
          "name": "stdout",
          "text": [
            "Train dataset size: 60000\n",
            "Test dataset size: 10000\n",
            "Example of ds_test with no Transform  applied during dataset creation\n",
            "  (<PIL.Image.Image image mode=L size=28x28 at 0x7CCB09BB2BC0>, 9)\n"
          ]
        }
      ]
    },
    {
      "cell_type": "code",
      "source": [
        "# Apply the transform while extracting the data.\n",
        "transform = transforms.Compose(transforms=\n",
        "                                [transforms.ToTensor(),\n",
        "                                 transforms.Normalize(mean=[0.2860], std=[0.3523])])\n",
        "\n",
        "fashion_mnist_train = datasets.FashionMNIST('root',\n",
        "                                            train=True,download=True,\n",
        "                                            transform=transform)\n",
        "ds_test  = datasets.FashionMNIST('root',\n",
        "                                 train=False,download=True,\n",
        "                                 transform=transform)\n",
        "\n",
        "print(f\"Train dataset size: {len(fashion_mnist_train)}\")\n",
        "print(f\"Test dataset size: {len(ds_test)}\")\n",
        "\n"
      ],
      "metadata": {
        "colab": {
          "base_uri": "https://localhost:8080/"
        },
        "id": "w-CJ6oQN1KsH",
        "outputId": "561fd4fb-0713-474d-d7dc-80ce96d1d479"
      },
      "execution_count": 130,
      "outputs": [
        {
          "output_type": "stream",
          "name": "stdout",
          "text": [
            "Train dataset size: 60000\n",
            "Test dataset size: 10000\n"
          ]
        }
      ]
    },
    {
      "cell_type": "code",
      "source": [
        "# Create the splits\n",
        "ds_train, ds_val = torch.utils.data.random_split(fashion_mnist_train, [0.8, 0.2])\n",
        "\n",
        "print(f\"Final Train dataset size: {len(ds_train)}\")\n",
        "print(f\"Final Val dataset size  : {len(ds_val)}\")\n",
        "print(f\"Final Test dataset size : {len(ds_test)}\")\n",
        "\n"
      ],
      "metadata": {
        "colab": {
          "base_uri": "https://localhost:8080/"
        },
        "id": "0QXiuM7KJ3NW",
        "outputId": "483f06c5-004b-447a-8eff-992ffa1f44dd"
      },
      "execution_count": 131,
      "outputs": [
        {
          "output_type": "stream",
          "name": "stdout",
          "text": [
            "Final Train dataset size: 48000\n",
            "Final Val dataset size  : 12000\n",
            "Final Test dataset size : 10000\n"
          ]
        }
      ]
    },
    {
      "cell_type": "code",
      "source": [
        "#Get the classes and create the dictionary to link index to class names\n",
        "dict_classes = {idx:name for idx,name in enumerate(ds_train.dataset.classes)}\n",
        "print(dict_classes)\n",
        "\n",
        "NUM_CLASSES = len(dict_classes)\n",
        "print(f\"NUM_CLASSES = {NUM_CLASSES}\")\n"
      ],
      "metadata": {
        "colab": {
          "base_uri": "https://localhost:8080/"
        },
        "id": "fpwR9WSaJ3Rm",
        "outputId": "f7ccea4e-cfaf-4ed1-ec1c-b4b4f18003a3"
      },
      "execution_count": 132,
      "outputs": [
        {
          "output_type": "stream",
          "name": "stdout",
          "text": [
            "{0: 'T-shirt/top', 1: 'Trouser', 2: 'Pullover', 3: 'Dress', 4: 'Coat', 5: 'Sandal', 6: 'Shirt', 7: 'Sneaker', 8: 'Bag', 9: 'Ankle boot'}\n",
            "NUM_CLASSES = 10\n"
          ]
        }
      ]
    },
    {
      "cell_type": "code",
      "source": [
        "# Get the size of the images\n",
        "img, label = ds_train[0]\n",
        "print(\"Image shape is: \", img.shape)\n",
        "IMG_CHANNELS, IMG_HEIGHT, IMG_WIDTH = img.shape\n",
        "\n",
        "print(f\"IMG_HEIGHT={IMG_HEIGHT}, IMG_WIDTH={IMG_WIDTH}, IMG_CHANNELS={IMG_CHANNELS}\")"
      ],
      "metadata": {
        "colab": {
          "base_uri": "https://localhost:8080/"
        },
        "id": "Y8PMS4qq8z3M",
        "outputId": "1983073f-257f-438f-92a5-88e33c11e379"
      },
      "execution_count": 133,
      "outputs": [
        {
          "output_type": "stream",
          "name": "stdout",
          "text": [
            "Image shape is:  torch.Size([1, 28, 28])\n",
            "IMG_HEIGHT=28, IMG_WIDTH=28, IMG_CHANNELS=1\n"
          ]
        }
      ]
    },
    {
      "cell_type": "code",
      "source": [
        "#Make the dataloaders:\n",
        "BATCH_SIZE=32\n",
        "dl_train = DataLoader(ds_train,batch_size=BATCH_SIZE, shuffle=True)\n",
        "dl_val   = DataLoader(ds_val,batch_size=BATCH_SIZE, shuffle=True)\n",
        "dl_test  = DataLoader(ds_test,batch_size=BATCH_SIZE, shuffle=True)\n",
        "\n",
        "print(f\"Batch size = {BATCH_SIZE}\")\n",
        "print(\"Number of batches in ds_train = \", len(ds_train))\n",
        "print(f\"Number of batches in dl_train based on batch size={BATCH_SIZE} is: {len(dl_train)} \")\n"
      ],
      "metadata": {
        "colab": {
          "base_uri": "https://localhost:8080/"
        },
        "id": "8yHiPEMEZnWf",
        "outputId": "c1a51c42-a94f-458b-f688-8c7e72a48a42"
      },
      "execution_count": 134,
      "outputs": [
        {
          "output_type": "stream",
          "name": "stdout",
          "text": [
            "Batch size = 32\n",
            "Number of batches in ds_train =  48000\n",
            "Number of batches in dl_train based on batch size=32 is: 1500 \n"
          ]
        }
      ]
    },
    {
      "cell_type": "code",
      "source": [],
      "metadata": {
        "id": "j6kZtPJHU2X0"
      },
      "execution_count": 134,
      "outputs": []
    },
    {
      "cell_type": "code",
      "source": [
        "# The Standardization was applied in the transforms. If that is correct, then running this calculation again will show a mean of ~0 and std of 1\n",
        "\n",
        "# Need to normalize the data.\n",
        "# transforms.ToTensor() scales from 0-1 automatically - but only after the dataloader is used.\n",
        "# If checking the dataset directly, the alues will still be in the range 0,255\n",
        "# It also doesnt standardize the data.\n",
        "#\n",
        "\n",
        "#Calculate the mean and std of the dataset from the dataloader\n",
        "def calc_mean_std_of_dataset(dl):\n",
        "\n",
        "  # in this case, dataloader returns this shape: # B X C X H X W\n",
        "  tmp_data, labels = next(iter(dl))\n",
        "  # print(tmp_data)\n",
        "  num_channels = tmp_data.shape[1] # this is the number of channels\n",
        "  print(f\"num_channels = {num_channels}\")\n",
        "\n",
        "  mean = torch.zeros(num_channels, dtype=torch.float32)\n",
        "  var = torch.zeros(num_channels, dtype=torch.float32)\n",
        "  # std=0.\n",
        "  num_iters = 0.\n",
        "\n",
        "  for images, _ in iter(dl):\n",
        "\n",
        "    if num_iters % 500 ==0:\n",
        "      print( f\"running through batch: {num_iters}\")\n",
        "\n",
        "    # Make channels as the first dimension\n",
        "    images = images.permute(1,0,2,3)    # Now this is of size: C X B X H X W\n",
        "\n",
        "    #Get a view of the data so that the reuslt is C X B*W*H\n",
        "    data = images.view(images.size(0), -1)\n",
        "    # print(data.shape)\n",
        "    mean += data.mean(1) # C X 1\n",
        "\n",
        "    #For std, keep track of the variances across each batch and then average those values to eventually get the std.\n",
        "    var  += data.std(1)**2\n",
        "\n",
        "    #Increment the iter counter\n",
        "    num_iters += 1\n",
        "\n",
        "  #Once you have looped through all the data,\n",
        "  # calculate the average of the mean and std\n",
        "  if num_iters>0:\n",
        "    mean = mean.numpy() / num_iters\n",
        "    std  = (var.numpy() / num_iters) **0.5\n",
        "\n",
        "  # print(\"Total Images in this dataset: \", num_images)\n",
        "\n",
        "  #Note: mean = d2.mean(2).mean(0), and std  = d2.std(2).std(0) is not correct.\n",
        "  # mean is fine, but std(2).std(0) is not the same as std(full_dataset)\n",
        "\n",
        "\n",
        "  return mean, std\n",
        "\n",
        "#Test it out\n",
        "mean, std = calc_mean_std_of_dataset(dl_train)\n",
        "\n",
        "print(f\"For dl_train dataloader, Calculated mean={mean}, std={std}\")\n"
      ],
      "metadata": {
        "colab": {
          "base_uri": "https://localhost:8080/"
        },
        "id": "tBvm-HTDAsjo",
        "outputId": "903909f4-2ce1-4002-dfda-bfc4e06f145b"
      },
      "execution_count": 135,
      "outputs": [
        {
          "output_type": "stream",
          "name": "stdout",
          "text": [
            "num_channels = 1\n",
            "running through batch: 0.0\n",
            "running through batch: 500.0\n",
            "running through batch: 1000.0\n",
            "For dl_train dataloader, Calculated mean=[-0.00078204], std=[0.999527]\n"
          ]
        }
      ]
    },
    {
      "cell_type": "code",
      "source": [
        "\n",
        "# data = torch.rand([2,1,3,3])\n",
        "# print(f\"Orig data={data}\")\n",
        "\n",
        "# d2 = data.view(data.size(0), data.size(1), -1)\n",
        "# print(\"Reshaped data\", d2.shape, d2)\n",
        "\n",
        "# mean = d2.mean(2).mean(0)\n",
        "# std  = d2.std(2).std(0)\n",
        "\n",
        "# print(\"Default method stats: \", mean, std)\n",
        "\n",
        "# # Do it with the other method\n",
        "# num_channels = data.shape[1] # this is the number of channels\n",
        "\n",
        "# mean = torch.zeros(num_channels, dtype=torch.float32)\n",
        "# std = torch.zeros(num_channels, dtype=torch.float32)\n",
        "# # print(mean, std)\n",
        "# d3 = data.permute(1,0,2, 3)\n",
        "\n",
        "# for ch in range(num_channels):\n",
        "#   new_data = d3[ch,:].view(1,-1) # What is the final dimension you want for this array?\n",
        "#   print(f\"new_data={new_data}\")\n",
        "#   # print(\"mean = \", torch.mean(new_data))\n",
        "#   # print(\"std = \", torch.std(new_data))\n",
        "#   mean[ch] += torch.mean(new_data)\n",
        "#   std[ch] += torch.std(new_data)\n",
        "\n",
        "# # d3 = d3[0,:].view(1,-1)\n",
        "# # print(d3.shape, d3)\n",
        "# # mean[num_channels] += torch.mean(data)\n",
        "# # std[num_channels] += torch.std(data)\n",
        "\n",
        "# print(\"My  method stats: \", mean, std)"
      ],
      "metadata": {
        "id": "RdzIocPlIcfp"
      },
      "execution_count": 136,
      "outputs": []
    },
    {
      "cell_type": "code",
      "source": [
        "# Show some of the images\n",
        "\n",
        "# Get a batch of images\n",
        "images, labels = next(iter(dl_train))\n",
        "\n",
        "print(\"Batch of images shape:\", images.shape)\n",
        "#Create the grid\n",
        "grid_img = make_grid(images, nrow=6,\n",
        "                     normalize=True, scale_each=True,\n",
        "                     padding=5)\n",
        "print(\"Shape of grid\", grid_img.shape)\n",
        "\n",
        "#Display\n",
        "plt.figure(figsize=(10,10))\n",
        "plt.imshow(grid_img.permute(1,2,0).cpu().numpy())\n",
        "plt.axis('off')\n",
        "plt.show()\n"
      ],
      "metadata": {
        "colab": {
          "base_uri": "https://localhost:8080/",
          "height": 842
        },
        "id": "TnYoymR1J3U5",
        "outputId": "0cadf791-3c54-46fc-a92f-95860605969d"
      },
      "execution_count": 137,
      "outputs": [
        {
          "output_type": "stream",
          "name": "stdout",
          "text": [
            "Batch of images shape: torch.Size([32, 1, 28, 28])\n",
            "Shape of grid torch.Size([3, 203, 203])\n"
          ]
        },
        {
          "output_type": "display_data",
          "data": {
            "text/plain": [
              "<Figure size 1000x1000 with 1 Axes>"
            ],
            "image/png": "[encoded data removed]"
          },
          "metadata": {}
        }
      ]
    },
    {
      "cell_type": "code",
      "source": [
        "# Create the model\n",
        "class MLP_FashionMNIST(nn.Module):\n",
        "  def __init__(self, n_input, n_hidden_layers, n_hidden_nodes_per_layer, n_outputs):\n",
        "    super().__init__()\n",
        "\n",
        "    self.n_input = n_input\n",
        "    self.n_hidden_layers = n_hidden_layers\n",
        "    self.n_hidden_nodes_per_layer = n_hidden_nodes_per_layer\n",
        "    self.n_outputs = n_outputs\n",
        "\n",
        "    # Initialize the layer list\n",
        "    layers= []\n",
        "\n",
        "    #Create input layer\n",
        "    layers.append(nn.Flatten())\n",
        "    layers.append(nn.Linear(n_input, n_hidden_nodes_per_layer))\n",
        "    layers.append(nn.ReLU())\n",
        "\n",
        "    for i in range(0,n_hidden_layers):\n",
        "      layers.append(nn.Linear(n_hidden_nodes_per_layer, n_hidden_nodes_per_layer))\n",
        "      layers.append(nn.ReLU())\n",
        "\n",
        "    # Add the final layer\n",
        "    layers.append(nn.Linear(n_hidden_nodes_per_layer, n_outputs))\n",
        "\n",
        "    #Need logits for multiclass classification.\n",
        "    #The softmax is directly applied in the cross entropy loss\n",
        "\n",
        "    self.model = nn.Sequential(*layers)\n",
        "\n",
        "  def forward(self, x):\n",
        "\n",
        "    return self.model(x)\n",
        "\n",
        "\n"
      ],
      "metadata": {
        "id": "lslGqNaQJ3YE"
      },
      "execution_count": 138,
      "outputs": []
    },
    {
      "cell_type": "code",
      "source": [
        "# Instantiate the model and see the structure\n",
        "model = MLP_FashionMNIST(n_input = IMG_HEIGHT*IMG_WIDTH,\n",
        "                         n_outputs=NUM_CLASSES,\n",
        "                         n_hidden_layers=3,\n",
        "                         n_hidden_nodes_per_layer=256)\n",
        "\n",
        "print(\"The MLP model is: \", model)"
      ],
      "metadata": {
        "colab": {
          "base_uri": "https://localhost:8080/"
        },
        "id": "OvtcqVGBJ4I_",
        "outputId": "2cb3b809-5fc6-4ada-b072-72cd699fe9fb"
      },
      "execution_count": 139,
      "outputs": [
        {
          "output_type": "stream",
          "name": "stdout",
          "text": [
            "The MLP model is:  MLP_FashionMNIST(\n",
            "  (model): Sequential(\n",
            "    (0): Flatten(start_dim=1, end_dim=-1)\n",
            "    (1): Linear(in_features=784, out_features=256, bias=True)\n",
            "    (2): ReLU()\n",
            "    (3): Linear(in_features=256, out_features=256, bias=True)\n",
            "    (4): ReLU()\n",
            "    (5): Linear(in_features=256, out_features=256, bias=True)\n",
            "    (6): ReLU()\n",
            "    (7): Linear(in_features=256, out_features=256, bias=True)\n",
            "    (8): ReLU()\n",
            "    (9): Linear(in_features=256, out_features=10, bias=True)\n",
            "  )\n",
            ")\n"
          ]
        }
      ]
    },
    {
      "cell_type": "code",
      "source": [
        "# Test the model to see if everything is working as expected\n",
        "\n",
        "x = torch.randn([BATCH_SIZE,1,IMG_HEIGHT,IMG_WIDTH], dtype=torch.float32)\n",
        "out = model(x)\n",
        "print(f\"Output shape: {out.shape}\")\n"
      ],
      "metadata": {
        "colab": {
          "base_uri": "https://localhost:8080/"
        },
        "id": "nXdieYIgJ4Bl",
        "outputId": "446c10a1-6f8f-46ce-fb42-aa199f2368e4"
      },
      "execution_count": 140,
      "outputs": [
        {
          "output_type": "stream",
          "name": "stdout",
          "text": [
            "Output shape: torch.Size([32, 10])\n"
          ]
        }
      ]
    },
    {
      "cell_type": "code",
      "source": [
        "# Create the training loop\n",
        "\n",
        "lr = 1e-3\n",
        "epochs = 100\n",
        "\n",
        "criterion = nn.CrossEntropyLoss()\n",
        "optimizer = optim.Adam(model.parameters(), lr=lr)\n",
        "\n",
        "train_losses = []\n",
        "val_losses = []\n",
        "\n",
        "for epoch in range(epochs):\n",
        "  #Set in train mode\n",
        "  model.train()\n",
        "  running_loss = 0.0\n",
        "  for inputs, labels in dl_train:\n",
        "\n",
        "    #Zero the gradients.\n",
        "    optimizer.zero_grad()\n",
        "\n",
        "    #Forward pass\n",
        "    out = model(inputs)\n",
        "\n",
        "    # Get the loss\n",
        "    loss = criterion(out, labels)\n",
        "\n",
        "    #compute the gradients\n",
        "    loss.backward()\n",
        "\n",
        "    #Apply the gradients\n",
        "    optimizer.step()\n",
        "\n",
        "    #Add the running loss\n",
        "    running_loss += loss.item()  # .item() will give the value, not the tensor.\n",
        "\n",
        "  # Save training loss\n",
        "  current_training_loss = running_loss/len(dl_train)\n",
        "  train_losses.append(current_training_loss)\n",
        "\n",
        "  # Get the validation loss\n",
        "  #Set in validation mode\n",
        "  model.eval()\n",
        "  running_val_loss = 0.0\n",
        "\n",
        "  with torch.no_grad():\n",
        "    for inputs, labels in dl_val:\n",
        "\n",
        "      #Forward pass\n",
        "      out = model(inputs)\n",
        "\n",
        "      # Get the loss\n",
        "      loss = criterion(out, labels)\n",
        "\n",
        "      #Add the running loss\n",
        "      running_val_loss += loss.item()  # .item() will give the value, not the tensor.\n",
        "\n",
        "  # Save validation loss\n",
        "  current_val_loss = running_val_loss/len(dl_val)\n",
        "  val_losses.append(current_val_loss)\n",
        "  print(f\"Epoch {epoch+1}/ {epochs}, Train loss: {current_training_loss}, Val Loss:  {current_val_loss}\")\n",
        "\n",
        "\n",
        "\n",
        "\n"
      ],
      "metadata": {
        "colab": {
          "base_uri": "https://localhost:8080/",
          "height": 617
        },
        "id": "tZXqJfkPJ3_F",
        "outputId": "33e523cf-7fad-4fad-85e4-863f5bf09c12"
      },
      "execution_count": 141,
      "outputs": [
        {
          "output_type": "stream",
          "name": "stdout",
          "text": [
            "Epoch 1/ 100, Train loss: 0.5113990406294664, Val Loss:  0.40328876558939614\n",
            "Epoch 2/ 100, Train loss: 0.3826283617541194, Val Loss:  0.37022586246331535\n",
            "Epoch 3/ 100, Train loss: 0.34034279303749404, Val Loss:  0.3500456661383311\n",
            "Epoch 4/ 100, Train loss: 0.31521791362886625, Val Loss:  0.3368108613292376\n",
            "Epoch 5/ 100, Train loss: 0.2957488150894642, Val Loss:  0.31771112483739855\n",
            "Epoch 6/ 100, Train loss: 0.2733791071260348, Val Loss:  0.33046457772453625\n",
            "Epoch 7/ 100, Train loss: 0.2617616200974832, Val Loss:  0.3172692342400551\n",
            "Epoch 8/ 100, Train loss: 0.2459593733921647, Val Loss:  0.34843971420327824\n",
            "Epoch 9/ 100, Train loss: 0.23673630926261346, Val Loss:  0.33735544445117316\n",
            "Epoch 10/ 100, Train loss: 0.2263187785434226, Val Loss:  0.32579205137491224\n",
            "Epoch 11/ 100, Train loss: 0.21566844624653458, Val Loss:  0.35164953927199044\n",
            "Epoch 12/ 100, Train loss: 0.20864854622477044, Val Loss:  0.38210315235455833\n",
            "Epoch 13/ 100, Train loss: 0.20159200783694783, Val Loss:  0.33039149331053097\n",
            "Epoch 14/ 100, Train loss: 0.18910809764141837, Val Loss:  0.33602852423489094\n"
          ]
        },
        {
          "output_type": "error",
          "ename": "KeyboardInterrupt",
          "evalue": "",
          "traceback": [
            "\u001b[0;31m---------------------------------------------------------------------------\u001b[0m",
            "\u001b[0;31mKeyboardInterrupt\u001b[0m                         Traceback (most recent call last)",
            "\u001b[0;32m<ipython-input-141-b812a03df1ae>\u001b[0m in \u001b[0;36m<cell line: 12>\u001b[0;34m()\u001b[0m\n\u001b[1;32m     14\u001b[0m   \u001b[0mmodel\u001b[0m\u001b[0;34m.\u001b[0m\u001b[0mtrain\u001b[0m\u001b[0;34m(\u001b[0m\u001b[0;34m)\u001b[0m\u001b[0;34m\u001b[0m\u001b[0;34m\u001b[0m\u001b[0m\n\u001b[1;32m     15\u001b[0m   \u001b[0mrunning_loss\u001b[0m \u001b[0;34m=\u001b[0m \u001b[0;36m0.0\u001b[0m\u001b[0;34m\u001b[0m\u001b[0;34m\u001b[0m\u001b[0m\n\u001b[0;32m---> 16\u001b[0;31m   \u001b[0;32mfor\u001b[0m \u001b[0minputs\u001b[0m\u001b[0;34m,\u001b[0m \u001b[0mlabels\u001b[0m \u001b[0;32min\u001b[0m \u001b[0mdl_train\u001b[0m\u001b[0;34m:\u001b[0m\u001b[0;34m\u001b[0m\u001b[0;34m\u001b[0m\u001b[0m\n\u001b[0m\u001b[1;32m     17\u001b[0m \u001b[0;34m\u001b[0m\u001b[0m\n\u001b[1;32m     18\u001b[0m     \u001b[0;31m#Zero the gradients.\u001b[0m\u001b[0;34m\u001b[0m\u001b[0;34m\u001b[0m\u001b[0m\n",
            "\u001b[0;32m/usr/local/lib/python3.10/dist-packages/torch/utils/data/dataloader.py\u001b[0m in \u001b[0;36m__next__\u001b[0;34m(self)\u001b[0m\n\u001b[1;32m    629\u001b[0m                 \u001b[0;31m# TODO(https://github.com/pytorch/pytorch/issues/76750)\u001b[0m\u001b[0;34m\u001b[0m\u001b[0;34m\u001b[0m\u001b[0m\n\u001b[1;32m    630\u001b[0m                 \u001b[0mself\u001b[0m\u001b[0;34m.\u001b[0m\u001b[0m_reset\u001b[0m\u001b[0;34m(\u001b[0m\u001b[0;34m)\u001b[0m  \u001b[0;31m# type: ignore[call-arg]\u001b[0m\u001b[0;34m\u001b[0m\u001b[0;34m\u001b[0m\u001b[0m\n\u001b[0;32m--> 631\u001b[0;31m             \u001b[0mdata\u001b[0m \u001b[0;34m=\u001b[0m \u001b[0mself\u001b[0m\u001b[0;34m.\u001b[0m\u001b[0m_next_data\u001b[0m\u001b[0;34m(\u001b[0m\u001b[0;34m)\u001b[0m\u001b[0;34m\u001b[0m\u001b[0;34m\u001b[0m\u001b[0m\n\u001b[0m\u001b[1;32m    632\u001b[0m             \u001b[0mself\u001b[0m\u001b[0;34m.\u001b[0m\u001b[0m_num_yielded\u001b[0m \u001b[0;34m+=\u001b[0m \u001b[0;36m1\u001b[0m\u001b[0;34m\u001b[0m\u001b[0;34m\u001b[0m\u001b[0m\n\u001b[1;32m    633\u001b[0m             \u001b[0;32mif\u001b[0m \u001b[0mself\u001b[0m\u001b[0;34m.\u001b[0m\u001b[0m_dataset_kind\u001b[0m \u001b[0;34m==\u001b[0m \u001b[0m_DatasetKind\u001b[0m\u001b[0;34m.\u001b[0m\u001b[0mIterable\u001b[0m \u001b[0;32mand\u001b[0m\u001b[0;31m \u001b[0m\u001b[0;31m\\\u001b[0m\u001b[0;34m\u001b[0m\u001b[0;34m\u001b[0m\u001b[0m\n",
            "\u001b[0;32m/usr/local/lib/python3.10/dist-packages/torch/utils/data/dataloader.py\u001b[0m in \u001b[0;36m_next_data\u001b[0;34m(self)\u001b[0m\n\u001b[1;32m    673\u001b[0m     \u001b[0;32mdef\u001b[0m \u001b[0m_next_data\u001b[0m\u001b[0;34m(\u001b[0m\u001b[0mself\u001b[0m\u001b[0;34m)\u001b[0m\u001b[0;34m:\u001b[0m\u001b[0;34m\u001b[0m\u001b[0;34m\u001b[0m\u001b[0m\n\u001b[1;32m    674\u001b[0m         \u001b[0mindex\u001b[0m \u001b[0;34m=\u001b[0m \u001b[0mself\u001b[0m\u001b[0;34m.\u001b[0m\u001b[0m_next_index\u001b[0m\u001b[0;34m(\u001b[0m\u001b[0;34m)\u001b[0m  \u001b[0;31m# may raise StopIteration\u001b[0m\u001b[0;34m\u001b[0m\u001b[0;34m\u001b[0m\u001b[0m\n\u001b[0;32m--> 675\u001b[0;31m         \u001b[0mdata\u001b[0m \u001b[0;34m=\u001b[0m \u001b[0mself\u001b[0m\u001b[0;34m.\u001b[0m\u001b[0m_dataset_fetcher\u001b[0m\u001b[0;34m.\u001b[0m\u001b[0mfetch\u001b[0m\u001b[0;34m(\u001b[0m\u001b[0mindex\u001b[0m\u001b[0;34m)\u001b[0m  \u001b[0;31m# may raise StopIteration\u001b[0m\u001b[0;34m\u001b[0m\u001b[0;34m\u001b[0m\u001b[0m\n\u001b[0m\u001b[1;32m    676\u001b[0m         \u001b[0;32mif\u001b[0m \u001b[0mself\u001b[0m\u001b[0;34m.\u001b[0m\u001b[0m_pin_memory\u001b[0m\u001b[0;34m:\u001b[0m\u001b[0;34m\u001b[0m\u001b[0;34m\u001b[0m\u001b[0m\n\u001b[1;32m    677\u001b[0m             \u001b[0mdata\u001b[0m \u001b[0;34m=\u001b[0m \u001b[0m_utils\u001b[0m\u001b[0;34m.\u001b[0m\u001b[0mpin_memory\u001b[0m\u001b[0;34m.\u001b[0m\u001b[0mpin_memory\u001b[0m\u001b[0;34m(\u001b[0m\u001b[0mdata\u001b[0m\u001b[0;34m,\u001b[0m \u001b[0mself\u001b[0m\u001b[0;34m.\u001b[0m\u001b[0m_pin_memory_device\u001b[0m\u001b[0;34m)\u001b[0m\u001b[0;34m\u001b[0m\u001b[0;34m\u001b[0m\u001b[0m\n",
            "\u001b[0;32m/usr/local/lib/python3.10/dist-packages/torch/utils/data/_utils/fetch.py\u001b[0m in \u001b[0;36mfetch\u001b[0;34m(self, possibly_batched_index)\u001b[0m\n\u001b[1;32m     47\u001b[0m         \u001b[0;32mif\u001b[0m \u001b[0mself\u001b[0m\u001b[0;34m.\u001b[0m\u001b[0mauto_collation\u001b[0m\u001b[0;34m:\u001b[0m\u001b[0;34m\u001b[0m\u001b[0;34m\u001b[0m\u001b[0m\n\u001b[1;32m     48\u001b[0m             \u001b[0;32mif\u001b[0m \u001b[0mhasattr\u001b[0m\u001b[0;34m(\u001b[0m\u001b[0mself\u001b[0m\u001b[0;34m.\u001b[0m\u001b[0mdataset\u001b[0m\u001b[0;34m,\u001b[0m \u001b[0;34m\"__getitems__\"\u001b[0m\u001b[0;34m)\u001b[0m \u001b[0;32mand\u001b[0m \u001b[0mself\u001b[0m\u001b[0;34m.\u001b[0m\u001b[0mdataset\u001b[0m\u001b[0;34m.\u001b[0m\u001b[0m__getitems__\u001b[0m\u001b[0;34m:\u001b[0m\u001b[0;34m\u001b[0m\u001b[0;34m\u001b[0m\u001b[0m\n\u001b[0;32m---> 49\u001b[0;31m                 \u001b[0mdata\u001b[0m \u001b[0;34m=\u001b[0m \u001b[0mself\u001b[0m\u001b[0;34m.\u001b[0m\u001b[0mdataset\u001b[0m\u001b[0;34m.\u001b[0m\u001b[0m__getitems__\u001b[0m\u001b[0;34m(\u001b[0m\u001b[0mpossibly_batched_index\u001b[0m\u001b[0;34m)\u001b[0m\u001b[0;34m\u001b[0m\u001b[0;34m\u001b[0m\u001b[0m\n\u001b[0m\u001b[1;32m     50\u001b[0m             \u001b[0;32melse\u001b[0m\u001b[0;34m:\u001b[0m\u001b[0;34m\u001b[0m\u001b[0;34m\u001b[0m\u001b[0m\n\u001b[1;32m     51\u001b[0m                 \u001b[0mdata\u001b[0m \u001b[0;34m=\u001b[0m \u001b[0;34m[\u001b[0m\u001b[0mself\u001b[0m\u001b[0;34m.\u001b[0m\u001b[0mdataset\u001b[0m\u001b[0;34m[\u001b[0m\u001b[0midx\u001b[0m\u001b[0;34m]\u001b[0m \u001b[0;32mfor\u001b[0m \u001b[0midx\u001b[0m \u001b[0;32min\u001b[0m \u001b[0mpossibly_batched_index\u001b[0m\u001b[0;34m]\u001b[0m\u001b[0;34m\u001b[0m\u001b[0;34m\u001b[0m\u001b[0m\n",
            "\u001b[0;32m/usr/local/lib/python3.10/dist-packages/torch/utils/data/dataset.py\u001b[0m in \u001b[0;36m__getitems__\u001b[0;34m(self, indices)\u001b[0m\n\u001b[1;32m    417\u001b[0m             \u001b[0;32mreturn\u001b[0m \u001b[0mself\u001b[0m\u001b[0;34m.\u001b[0m\u001b[0mdataset\u001b[0m\u001b[0;34m.\u001b[0m\u001b[0m__getitems__\u001b[0m\u001b[0;34m(\u001b[0m\u001b[0;34m[\u001b[0m\u001b[0mself\u001b[0m\u001b[0;34m.\u001b[0m\u001b[0mindices\u001b[0m\u001b[0;34m[\u001b[0m\u001b[0midx\u001b[0m\u001b[0;34m]\u001b[0m \u001b[0;32mfor\u001b[0m \u001b[0midx\u001b[0m \u001b[0;32min\u001b[0m \u001b[0mindices\u001b[0m\u001b[0;34m]\u001b[0m\u001b[0;34m)\u001b[0m  \u001b[0;31m# type: ignore[attr-defined]\u001b[0m\u001b[0;34m\u001b[0m\u001b[0;34m\u001b[0m\u001b[0m\n\u001b[1;32m    418\u001b[0m         \u001b[0;32melse\u001b[0m\u001b[0;34m:\u001b[0m\u001b[0;34m\u001b[0m\u001b[0;34m\u001b[0m\u001b[0m\n\u001b[0;32m--> 419\u001b[0;31m             \u001b[0;32mreturn\u001b[0m \u001b[0;34m[\u001b[0m\u001b[0mself\u001b[0m\u001b[0;34m.\u001b[0m\u001b[0mdataset\u001b[0m\u001b[0;34m[\u001b[0m\u001b[0mself\u001b[0m\u001b[0;34m.\u001b[0m\u001b[0mindices\u001b[0m\u001b[0;34m[\u001b[0m\u001b[0midx\u001b[0m\u001b[0;34m]\u001b[0m\u001b[0;34m]\u001b[0m \u001b[0;32mfor\u001b[0m \u001b[0midx\u001b[0m \u001b[0;32min\u001b[0m \u001b[0mindices\u001b[0m\u001b[0;34m]\u001b[0m\u001b[0;34m\u001b[0m\u001b[0;34m\u001b[0m\u001b[0m\n\u001b[0m\u001b[1;32m    420\u001b[0m \u001b[0;34m\u001b[0m\u001b[0m\n\u001b[1;32m    421\u001b[0m     \u001b[0;32mdef\u001b[0m \u001b[0m__len__\u001b[0m\u001b[0;34m(\u001b[0m\u001b[0mself\u001b[0m\u001b[0;34m)\u001b[0m\u001b[0;34m:\u001b[0m\u001b[0;34m\u001b[0m\u001b[0;34m\u001b[0m\u001b[0m\n",
            "\u001b[0;32m/usr/local/lib/python3.10/dist-packages/torch/utils/data/dataset.py\u001b[0m in \u001b[0;36m<listcomp>\u001b[0;34m(.0)\u001b[0m\n\u001b[1;32m    417\u001b[0m             \u001b[0;32mreturn\u001b[0m \u001b[0mself\u001b[0m\u001b[0;34m.\u001b[0m\u001b[0mdataset\u001b[0m\u001b[0;34m.\u001b[0m\u001b[0m__getitems__\u001b[0m\u001b[0;34m(\u001b[0m\u001b[0;34m[\u001b[0m\u001b[0mself\u001b[0m\u001b[0;34m.\u001b[0m\u001b[0mindices\u001b[0m\u001b[0;34m[\u001b[0m\u001b[0midx\u001b[0m\u001b[0;34m]\u001b[0m \u001b[0;32mfor\u001b[0m \u001b[0midx\u001b[0m \u001b[0;32min\u001b[0m \u001b[0mindices\u001b[0m\u001b[0;34m]\u001b[0m\u001b[0;34m)\u001b[0m  \u001b[0;31m# type: ignore[attr-defined]\u001b[0m\u001b[0;34m\u001b[0m\u001b[0;34m\u001b[0m\u001b[0m\n\u001b[1;32m    418\u001b[0m         \u001b[0;32melse\u001b[0m\u001b[0;34m:\u001b[0m\u001b[0;34m\u001b[0m\u001b[0;34m\u001b[0m\u001b[0m\n\u001b[0;32m--> 419\u001b[0;31m             \u001b[0;32mreturn\u001b[0m \u001b[0;34m[\u001b[0m\u001b[0mself\u001b[0m\u001b[0;34m.\u001b[0m\u001b[0mdataset\u001b[0m\u001b[0;34m[\u001b[0m\u001b[0mself\u001b[0m\u001b[0;34m.\u001b[0m\u001b[0mindices\u001b[0m\u001b[0;34m[\u001b[0m\u001b[0midx\u001b[0m\u001b[0;34m]\u001b[0m\u001b[0;34m]\u001b[0m \u001b[0;32mfor\u001b[0m \u001b[0midx\u001b[0m \u001b[0;32min\u001b[0m \u001b[0mindices\u001b[0m\u001b[0;34m]\u001b[0m\u001b[0;34m\u001b[0m\u001b[0;34m\u001b[0m\u001b[0m\n\u001b[0m\u001b[1;32m    420\u001b[0m \u001b[0;34m\u001b[0m\u001b[0m\n\u001b[1;32m    421\u001b[0m     \u001b[0;32mdef\u001b[0m \u001b[0m__len__\u001b[0m\u001b[0;34m(\u001b[0m\u001b[0mself\u001b[0m\u001b[0;34m)\u001b[0m\u001b[0;34m:\u001b[0m\u001b[0;34m\u001b[0m\u001b[0;34m\u001b[0m\u001b[0m\n",
            "\u001b[0;32m/usr/local/lib/python3.10/dist-packages/torchvision/datasets/mnist.py\u001b[0m in \u001b[0;36m__getitem__\u001b[0;34m(self, index)\u001b[0m\n\u001b[1;32m    144\u001b[0m \u001b[0;34m\u001b[0m\u001b[0m\n\u001b[1;32m    145\u001b[0m         \u001b[0;32mif\u001b[0m \u001b[0mself\u001b[0m\u001b[0;34m.\u001b[0m\u001b[0mtransform\u001b[0m \u001b[0;32mis\u001b[0m \u001b[0;32mnot\u001b[0m \u001b[0;32mNone\u001b[0m\u001b[0;34m:\u001b[0m\u001b[0;34m\u001b[0m\u001b[0;34m\u001b[0m\u001b[0m\n\u001b[0;32m--> 146\u001b[0;31m             \u001b[0mimg\u001b[0m \u001b[0;34m=\u001b[0m \u001b[0mself\u001b[0m\u001b[0;34m.\u001b[0m\u001b[0mtransform\u001b[0m\u001b[0;34m(\u001b[0m\u001b[0mimg\u001b[0m\u001b[0;34m)\u001b[0m\u001b[0;34m\u001b[0m\u001b[0;34m\u001b[0m\u001b[0m\n\u001b[0m\u001b[1;32m    147\u001b[0m \u001b[0;34m\u001b[0m\u001b[0m\n\u001b[1;32m    148\u001b[0m         \u001b[0;32mif\u001b[0m \u001b[0mself\u001b[0m\u001b[0;34m.\u001b[0m\u001b[0mtarget_transform\u001b[0m \u001b[0;32mis\u001b[0m \u001b[0;32mnot\u001b[0m \u001b[0;32mNone\u001b[0m\u001b[0;34m:\u001b[0m\u001b[0;34m\u001b[0m\u001b[0;34m\u001b[0m\u001b[0m\n",
            "\u001b[0;32m/usr/local/lib/python3.10/dist-packages/torchvision/transforms/transforms.py\u001b[0m in \u001b[0;36m__call__\u001b[0;34m(self, img)\u001b[0m\n\u001b[1;32m     93\u001b[0m     \u001b[0;32mdef\u001b[0m \u001b[0m__call__\u001b[0m\u001b[0;34m(\u001b[0m\u001b[0mself\u001b[0m\u001b[0;34m,\u001b[0m \u001b[0mimg\u001b[0m\u001b[0;34m)\u001b[0m\u001b[0;34m:\u001b[0m\u001b[0;34m\u001b[0m\u001b[0;34m\u001b[0m\u001b[0m\n\u001b[1;32m     94\u001b[0m         \u001b[0;32mfor\u001b[0m \u001b[0mt\u001b[0m \u001b[0;32min\u001b[0m \u001b[0mself\u001b[0m\u001b[0;34m.\u001b[0m\u001b[0mtransforms\u001b[0m\u001b[0;34m:\u001b[0m\u001b[0;34m\u001b[0m\u001b[0;34m\u001b[0m\u001b[0m\n\u001b[0;32m---> 95\u001b[0;31m             \u001b[0mimg\u001b[0m \u001b[0;34m=\u001b[0m \u001b[0mt\u001b[0m\u001b[0;34m(\u001b[0m\u001b[0mimg\u001b[0m\u001b[0;34m)\u001b[0m\u001b[0;34m\u001b[0m\u001b[0;34m\u001b[0m\u001b[0m\n\u001b[0m\u001b[1;32m     96\u001b[0m         \u001b[0;32mreturn\u001b[0m \u001b[0mimg\u001b[0m\u001b[0;34m\u001b[0m\u001b[0;34m\u001b[0m\u001b[0m\n\u001b[1;32m     97\u001b[0m \u001b[0;34m\u001b[0m\u001b[0m\n",
            "\u001b[0;32m/usr/local/lib/python3.10/dist-packages/torch/nn/modules/module.py\u001b[0m in \u001b[0;36m_wrapped_call_impl\u001b[0;34m(self, *args, **kwargs)\u001b[0m\n\u001b[1;32m   1527\u001b[0m \u001b[0;34m\u001b[0m\u001b[0m\n\u001b[1;32m   1528\u001b[0m     \u001b[0;32mdef\u001b[0m \u001b[0m_wrapped_call_impl\u001b[0m\u001b[0;34m(\u001b[0m\u001b[0mself\u001b[0m\u001b[0;34m,\u001b[0m \u001b[0;34m*\u001b[0m\u001b[0margs\u001b[0m\u001b[0;34m,\u001b[0m \u001b[0;34m**\u001b[0m\u001b[0mkwargs\u001b[0m\u001b[0;34m)\u001b[0m\u001b[0;34m:\u001b[0m\u001b[0;34m\u001b[0m\u001b[0;34m\u001b[0m\u001b[0m\n\u001b[0;32m-> 1529\u001b[0;31m         \u001b[0;32mif\u001b[0m \u001b[0mself\u001b[0m\u001b[0;34m.\u001b[0m\u001b[0m_compiled_call_impl\u001b[0m \u001b[0;32mis\u001b[0m \u001b[0;32mnot\u001b[0m \u001b[0;32mNone\u001b[0m\u001b[0;34m:\u001b[0m\u001b[0;34m\u001b[0m\u001b[0;34m\u001b[0m\u001b[0m\n\u001b[0m\u001b[1;32m   1530\u001b[0m             \u001b[0;32mreturn\u001b[0m \u001b[0mself\u001b[0m\u001b[0;34m.\u001b[0m\u001b[0m_compiled_call_impl\u001b[0m\u001b[0;34m(\u001b[0m\u001b[0;34m*\u001b[0m\u001b[0margs\u001b[0m\u001b[0;34m,\u001b[0m \u001b[0;34m**\u001b[0m\u001b[0mkwargs\u001b[0m\u001b[0;34m)\u001b[0m  \u001b[0;31m# type: ignore[misc]\u001b[0m\u001b[0;34m\u001b[0m\u001b[0;34m\u001b[0m\u001b[0m\n\u001b[1;32m   1531\u001b[0m         \u001b[0;32melse\u001b[0m\u001b[0;34m:\u001b[0m\u001b[0;34m\u001b[0m\u001b[0;34m\u001b[0m\u001b[0m\n",
            "\u001b[0;31mKeyboardInterrupt\u001b[0m: "
          ]
        }
      ]
    },
    {
      "cell_type": "code",
      "source": [],
      "metadata": {
        "id": "96qruWDVJ38n"
      },
      "execution_count": null,
      "outputs": []
    },
    {
      "cell_type": "code",
      "source": [],
      "metadata": {
        "id": "QfgyG90OJ3cc"
      },
      "execution_count": null,
      "outputs": []
    }
  ]
}