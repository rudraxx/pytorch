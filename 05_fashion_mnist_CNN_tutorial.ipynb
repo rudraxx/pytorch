{
  "nbformat": 4,
  "nbformat_minor": 0,
  "metadata": {
    "colab": {
      "provenance": [],
      "authorship_tag": "ABX9TyPSomCLhLfPlgFcuq2kuvml",
      "include_colab_link": true
    },
    "kernelspec": {
      "name": "python3",
      "display_name": "Python 3"
    },
    "language_info": {
      "name": "python"
    }
  },
  "cells": [
    {
      "cell_type": "markdown",
      "metadata": {
        "id": "view-in-github",
        "colab_type": "text"
      },
      "source": [
        "<a href=\"https://colab.research.google.com/github/rudraxx/pytorch/blob/main/05_fashion_mnist_CNN_tutorial.ipynb\" target=\"_parent\"><img src=\"https://colab.research.google.com/assets/colab-badge.svg\" alt=\"Open In Colab\"/></a>"
      ]
    },
    {
      "cell_type": "code",
      "execution_count": 26,
      "metadata": {
        "id": "siJu14j9y-6e"
      },
      "outputs": [],
      "source": [
        "import torch\n",
        "from torchvision import datasets, transforms\n",
        "from torch.utils.data import DataLoader\n"
      ]
    },
    {
      "cell_type": "code",
      "source": [
        "# Load Fashion MNIST data\n",
        "# Split into train/val set\n",
        "\n",
        "#Create the dataloaders to get batched data\n",
        "\n",
        "# Create CNN architecture\n",
        "\n",
        "# Train model. Run validation per epoch\n",
        "#Plot the loss\n"
      ],
      "metadata": {
        "id": "HAIFh2sNzExU"
      },
      "execution_count": 16,
      "outputs": []
    },
    {
      "cell_type": "code",
      "source": [
        "#Set the Hyperparameters\n",
        "BATCH_SIZE = 128\n"
      ],
      "metadata": {
        "id": "wSNpaI4i2FFX"
      },
      "execution_count": 27,
      "outputs": []
    },
    {
      "cell_type": "code",
      "source": [
        "#Load the datasets\n",
        "\n",
        "transform = transforms.Compose([\n",
        "    transforms.ToTensor(),\n",
        "])\n",
        "\n",
        "#Train dataset\n",
        "fashion_ds_train = datasets.FashionMNIST(root=\"root\",\n",
        "                                 train=True,\n",
        "                                 download=True,\n",
        "                                 transform=transform)\n",
        "\n",
        "ds_test = datasets.FashionMNIST(root=\"root\",\n",
        "                                train=False,\n",
        "                                 download=True,\n",
        "                                transform=transform)\n",
        "\n",
        "print(fashion_ds_train)"
      ],
      "metadata": {
        "colab": {
          "base_uri": "https://localhost:8080/"
        },
        "id": "6VGIrVW-zEvd",
        "outputId": "1e46a65e-cb95-41b7-ac68-c60959ba49e9"
      },
      "execution_count": 23,
      "outputs": [
        {
          "output_type": "stream",
          "name": "stdout",
          "text": [
            "Dataset FashionMNIST\n",
            "    Number of datapoints: 60000\n",
            "    Root location: root\n",
            "    Split: Train\n",
            "    StandardTransform\n",
            "Transform: Compose(\n",
            "               ToTensor()\n",
            "           )\n"
          ]
        }
      ]
    },
    {
      "cell_type": "code",
      "source": [
        "#Split into train and validation\n",
        "ds_train, ds_val = torch.utils.data.random_split(fashion_ds_train,[0.8, 0.2])\n",
        "\n",
        "#Print the size\n",
        "print(f\"ds_train size = \", {len(ds_train)})\n",
        "print(f\"ds_val size = \", {len(ds_val)})\n",
        "print(f\"ds_test size = \", {len(ds_test)})\n"
      ],
      "metadata": {
        "colab": {
          "base_uri": "https://localhost:8080/"
        },
        "id": "jBLf_vXZzEs4",
        "outputId": "2f127c39-0fe9-46b0-cc97-d2071c5caef1"
      },
      "execution_count": 25,
      "outputs": [
        {
          "output_type": "stream",
          "name": "stdout",
          "text": [
            "ds_train size =  {48000}\n",
            "ds_val size =  {12000}\n",
            "ds_test size =  {10000}\n"
          ]
        }
      ]
    },
    {
      "cell_type": "code",
      "source": [
        "# Create the data loader\n",
        "dl_train = DataLoader(ds_train,\n",
        "                      batch_size=BATCH_SIZE,\n",
        "                      shuffle=True)\n",
        "\n",
        "dl_test\n"
      ],
      "metadata": {
        "id": "_03ogcVs1rLz"
      },
      "execution_count": null,
      "outputs": []
    },
    {
      "cell_type": "code",
      "source": [],
      "metadata": {
        "id": "Gt4dbhmj1rJV"
      },
      "execution_count": null,
      "outputs": []
    },
    {
      "cell_type": "code",
      "source": [],
      "metadata": {
        "id": "NsxHBF651rG4"
      },
      "execution_count": null,
      "outputs": []
    },
    {
      "cell_type": "code",
      "source": [],
      "metadata": {
        "id": "wn9E7AVs1rEj"
      },
      "execution_count": null,
      "outputs": []
    },
    {
      "cell_type": "code",
      "source": [],
      "metadata": {
        "id": "PaBCtSSq1rCO"
      },
      "execution_count": null,
      "outputs": []
    },
    {
      "cell_type": "code",
      "source": [],
      "metadata": {
        "id": "fkdJHpwb1q_v"
      },
      "execution_count": null,
      "outputs": []
    },
    {
      "cell_type": "code",
      "source": [],
      "metadata": {
        "id": "bcrfFL1j1q9g"
      },
      "execution_count": null,
      "outputs": []
    }
  ]
}